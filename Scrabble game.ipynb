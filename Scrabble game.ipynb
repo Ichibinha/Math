{
 "cells": [
  {
   "cell_type": "code",
   "execution_count": null,
   "id": "244486a4",
   "metadata": {},
   "outputs": [],
   "source": [
    "#Listas de letras e valores correspondentes\n",
    "def Scrabble():\n",
    "    List_LET = [\"A\", 'B', 'C', 'D','E', 'F', 'G', 'H', 'I', 'J', 'K', 'L', 'M', 'N', 'O', 'P', 'Q', 'R', 'S', 'T', 'U', 'V', 'W', 'X', 'Y', 'Z']\n",
    "    List_let = ['a', 'b', 'c', 'd', 'e', 'f', 'g', 'h', 'i', 'j', 'k' ,'l', 'm', 'n', 'o', 'p', 'q', 'r', 's', 't', 'u', 'v', 'w', 'x', 'y', 'z']\n",
    "    List_val = [1,3,3,2,1,4,2,4,1,8,5,1,3,1,1,3,10,1,1,1,1,4,4,8,4,10]\n",
    "   \n",
    "    #print(len(List_val), len(List_let))    \n",
    "\n",
    "    #Encontrando os valores de uma palavra\n",
    "    soma2 = 0\n",
    "    soma1 = 0\n",
    "    palavra1 = input('Player 1:')\n",
    "    palavra2 = input('Player 2:')\n",
    "    #O primeiro for varre a palavra 1\n",
    "    for i in range(len(palavra1)):\n",
    "        #O segundo for varre a lista de letras para encontrar a posição\n",
    "        for j in range(len(List_let)):\n",
    "            if palavra1[i] == List_let[j] or palavra1[i] == List_LET[j]:\n",
    "                soma1 = soma1 + List_val[j]\n",
    "            else:\n",
    "                continue\n",
    "    #O primeiro for varre a palavra 1           \n",
    "    for i in range(len(palavra2)):\n",
    "        #O segundo for varre a lista de letras para encontrar a posição\n",
    "        for j in range(len(List_let)):\n",
    "            if palavra2[i] == List_let[j] or palavra2[i] == List_LET[j]:\n",
    "                soma2 = soma2 + List_val[j]\n",
    "            else:\n",
    "                continue\n",
    "    #Definição de quem vence:\n",
    "    if soma1 < soma2:\n",
    "        print('Player 2 wins!')\n",
    "    elif soma2 > soma1:\n",
    "        print('Player 1 wins!')\n",
    "    else: \n",
    "        print('Tie!')\n",
    "    #print(soma)\n",
    "    return"
   ]
  }
 ],
 "metadata": {
  "kernelspec": {
   "display_name": "Python 3",
   "language": "python",
   "name": "python3"
  },
  "language_info": {
   "codemirror_mode": {
    "name": "ipython",
    "version": 3
   },
   "file_extension": ".py",
   "mimetype": "text/x-python",
   "name": "python",
   "nbconvert_exporter": "python",
   "pygments_lexer": "ipython3",
   "version": "3.8.5"
  }
 },
 "nbformat": 4,
 "nbformat_minor": 5
}
