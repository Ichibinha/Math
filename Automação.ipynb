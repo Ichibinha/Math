{
 "cells": [
  {
   "cell_type": "code",
   "execution_count": 32,
   "id": "4ebc6b6b",
   "metadata": {},
   "outputs": [],
   "source": [
    "from selenium import webdriver\n",
    "from selenium.webdriver.common.keys import Keys\n",
    "from selenium import webdriver\n",
    "from selenium.webdriver.common.by import By\n",
    "from selenium.webdriver.support.ui import WebDriverWait\n",
    "from selenium.webdriver.support import expected_conditions as EC\n",
    "import time\n",
    "from tkinter import *\n",
    "from tkinter import ttk"
   ]
  },
  {
   "cell_type": "code",
   "execution_count": 33,
   "id": "f51925cd",
   "metadata": {},
   "outputs": [
    {
     "name": "stdout",
     "output_type": "stream",
     "text": [
      "shib: R$0.0001761\n"
     ]
    }
   ],
   "source": [
    "#Função para abrir o navegador(Como faz isso sem abrir de verdade?)\n",
    "moeda = SHIB\n",
    "\n",
    "navegador = webdriver.Chrome()\n",
    "\n",
    "#Função para colocar o site\n",
    "navegador.get('https://coinmarketcap.com/pt-br/currencies/shiba-inu/')\n",
    "\n",
    "#(xpath, te vira pra achar isso dnv, sempre use '' e não \"\")\n",
    "preco_errado = navegador.find_element_by_xpath('//*[@id=\"__next\"]/div/div[1]/div[2]/div/div[1]/div[3]/div/div[2]/div[1]/div/span')\n",
    "\n",
    "\n",
    "#print('shib:', preco_errado.text)\n",
    "preco = str(preco_errado.text)\n",
    "\n",
    "#Talvez toda essa parte possa ser simplificada\n",
    "#A função é trocar o tipo da variavel para float, mas tem muitos passos\n",
    "preco = str(preco_errado.text)\n",
    "subst = preco\n",
    "characters = \"R$\"\n",
    "\n",
    "for x in range(len(characters)):\n",
    "    subst = subst.replace(characters[x],\"\")\n",
    "preco = float(subst)\n",
    "#print(type(preco))\n",
    "\n",
    "#A partir daqui o ideal é fazer um programa executavel para que eu consiga deixar isso rolando em outra tela ou escondido.\n",
    "#Tkinter\n",
    "\n",
    "\n",
    "#search.send_keys('test') é como se digita texto onde você está clicando\n",
    "#search.send_keys(Keys.RETURN) é como se aperta enter \n",
    "\n",
    "\n",
    "\n",
    "navegador.quit()"
   ]
  },
  {
   "cell_type": "raw",
   "id": "ea305f11",
   "metadata": {},
   "source": []
  },
  {
   "cell_type": "code",
   "execution_count": 59,
   "id": "cc3f114e",
   "metadata": {},
   "outputs": [],
   "source": [
    "root = Tk()\n",
    "frm = ttk.Frame(root, padding=100)\n",
    "frm.grid()\n",
    "ttk.Label(frm, text=\"Piteco's\").grid(column=0, row=0)\n",
    "ttk.Button(frm, text=\"Quit\", command=root.destroy).grid(column=100, row=0)\n",
    "root.mainloop()"
   ]
  },
  {
   "cell_type": "code",
   "execution_count": null,
   "id": "9951bc26",
   "metadata": {},
   "outputs": [],
   "source": []
  }
 ],
 "metadata": {
  "kernelspec": {
   "display_name": "Python 3",
   "language": "python",
   "name": "python3"
  },
  "language_info": {
   "codemirror_mode": {
    "name": "ipython",
    "version": 3
   },
   "file_extension": ".py",
   "mimetype": "text/x-python",
   "name": "python",
   "nbconvert_exporter": "python",
   "pygments_lexer": "ipython3",
   "version": "3.8.5"
  }
 },
 "nbformat": 4,
 "nbformat_minor": 5
}
